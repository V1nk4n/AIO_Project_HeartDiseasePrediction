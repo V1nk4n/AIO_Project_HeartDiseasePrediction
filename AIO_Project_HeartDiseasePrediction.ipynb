{
  "nbformat": 4,
  "nbformat_minor": 0,
  "metadata": {
    "colab": {
      "provenance": [],
      "gpuType": "T4",
      "authorship_tag": "ABX9TyOwjPf0/489iK6aDxq9Yys7",
      "include_colab_link": true
    },
    "kernelspec": {
      "name": "python3",
      "display_name": "Python 3"
    },
    "language_info": {
      "name": "python"
    },
    "accelerator": "GPU"
  },
  "cells": [
    {
      "cell_type": "markdown",
      "metadata": {
        "id": "view-in-github",
        "colab_type": "text"
      },
      "source": [
        "<a href=\"https://colab.research.google.com/github/V1nk4n/AIO_Project_HeartDiseasePrediction/blob/main/AIO_Project_HeartDiseasePrediction.ipynb\" target=\"_parent\"><img src=\"https://colab.research.google.com/assets/colab-badge.svg\" alt=\"Open In Colab\"/></a>"
      ]
    },
    {
      "cell_type": "code",
      "source": [
        "!gdown 1oGsM9EAFWiE28jDXT1IKhWwsqzIOcXcN"
      ],
      "metadata": {
        "colab": {
          "base_uri": "https://localhost:8080/"
        },
        "id": "UxWIqtr6DRdS",
        "outputId": "7bb859b4-5213-45d2-fe80-24499f582bdd"
      },
      "execution_count": 3,
      "outputs": [
        {
          "output_type": "stream",
          "name": "stdout",
          "text": [
            "Downloading...\n",
            "From: https://drive.google.com/uc?id=1oGsM9EAFWiE28jDXT1IKhWwsqzIOcXcN\n",
            "To: /content/cleveland.csv\n",
            "\r  0% 0.00/10.9k [00:00<?, ?B/s]\r100% 10.9k/10.9k [00:00<00:00, 28.3MB/s]\n"
          ]
        }
      ]
    },
    {
      "cell_type": "markdown",
      "source": [
        "# Bài tập 1"
      ],
      "metadata": {
        "id": "uheEs6fTnkhq"
      }
    },
    {
      "cell_type": "code",
      "execution_count": 8,
      "metadata": {
        "id": "NyAcEbBXnc0k",
        "colab": {
          "base_uri": "https://localhost:8080/",
          "height": 529
        },
        "outputId": "4c4f0773-89bc-40b4-c06e-505bcf9ea52e"
      },
      "outputs": [
        {
          "output_type": "display_data",
          "data": {
            "text/plain": [
              "<Figure size 558.875x500 with 1 Axes>"
            ],
            "image/png": "[encoded data removed]"
          },
          "metadata": {}
        }
      ],
      "source": [
        "import numpy as np\n",
        "import pandas as pd\n",
        "from matplotlib import pyplot as plt\n",
        "import matplotlib.pyplot as plt\n",
        "import seaborn as sns\n",
        "\n",
        "df = pd.read_csv('/content/cleveland.csv', header = None)\n",
        "df.columns = ['age', 'sex', 'cp', 'trestbps', 'chol',\n",
        "              'fbs', 'restecg', 'thalach', 'exang',\n",
        "              'oldpeak', 'slope', 'ca', 'thal', 'target']\n",
        "df['target'] = df.target.map({0: 0, 1: 1, 2: 1, 3: 1, 4: 1})\n",
        "df['thal'] = df.thal.fillna(df.thal.mean())\n",
        "df['ca'] = df.ca.fillna(df.ca.mean())\n",
        "\n",
        "# distribution of target vs age\n",
        "\n",
        "# Your code here\n",
        "sns.displot(df, x=df['age'], hue=df['target'], kind='hist', fill=True)\n",
        "plt.title('Age')\n",
        "plt.show()"
      ]
    },
    {
      "cell_type": "markdown",
      "source": [
        "# Bài tập 2"
      ],
      "metadata": {
        "id": "bfwMaJNcojgR"
      }
    },
    {
      "cell_type": "code",
      "source": [
        "# bar plot of age vs sex with hue = target\n",
        "\n",
        "# Your code here\n",
        "age_means = df.groupby(['sex', 'target'])['age'].mean().reset_index()\n",
        "sns.barplot(data = age_means, x='sex', y='age', hue='target')\n",
        "\n",
        "plt.show()"
      ],
      "metadata": {
        "id": "JyRJHiCtol_z",
        "colab": {
          "base_uri": "https://localhost:8080/",
          "height": 449
        },
        "outputId": "0fa3cd93-08d2-4231-cb42-324d52c15d9c"
      },
      "execution_count": 12,
      "outputs": [
        {
          "output_type": "display_data",
          "data": {
            "text/plain": [
              "<Figure size 640x480 with 1 Axes>"
            ],
            "image/png": "[encoded data removed]"
          },
          "metadata": {}
        }
      ]
    },
    {
      "cell_type": "markdown",
      "source": [
        "# Bài tập 3"
      ],
      "metadata": {
        "id": "GHGaxhfhntZ7"
      }
    },
    {
      "cell_type": "code",
      "source": [
        "from sklearn.model_selection import train_test_split\n",
        "from sklearn.neighbors import KNeighborsClassifier\n",
        "from sklearn.metrics import confusion_matrix\n",
        "\n",
        "X = df.iloc[:, :-1].values\n",
        "y = df.iloc[:, -1].values\n",
        "X_train, X_test, y_train, y_test = train_test_split(X, y, test_size = 0.2, random_state = 42)\n",
        "\n",
        "# your code here\n",
        "knn = KNeighborsClassifier(n_neighbors=5, weights='uniform', algorithm='auto', leaf_size=30, p=2, metric='minkowski')\n",
        "\n",
        "knn.fit(X_train, y_train)\n",
        "\n",
        "y_train_pred = knn.predict(X_train)\n",
        "y_test_pred = knn.predict(X_test)\n",
        "\n",
        "cm_train = confusion_matrix(y_train, y_train_pred)\n",
        "cm_test = confusion_matrix(y_test, y_test_pred)\n",
        "\n",
        "print()\n",
        "accuracy_for_train = np.round((cm_train[0][0] + cm_train[1][1])/len(y_train), 2)\n",
        "accuracy_for_test = np.round((cm_test[0][0] + cm_test[1][1])/len(y_test), 2)\n",
        "print('Accuracy for training set for KNeighborsClassifier = {}'.format(accuracy_for_train))\n",
        "print('Accuracy for test set for KNeighborsClassifier = {}'.format(accuracy_for_test))"
      ],
      "metadata": {
        "id": "fi95qiEWonDr",
        "colab": {
          "base_uri": "https://localhost:8080/"
        },
        "outputId": "9f3a45bf-7120-455b-ae75-af4782bd90f7"
      },
      "execution_count": 14,
      "outputs": [
        {
          "output_type": "stream",
          "name": "stdout",
          "text": [
            "\n",
            "Accuracy for training set for KNeighborsClassifier = 0.76\n",
            "Accuracy for test set for KNeighborsClassifier = 0.69\n"
          ]
        }
      ]
    },
    {
      "cell_type": "markdown",
      "source": [
        "# Bài tập 4"
      ],
      "metadata": {
        "id": "-ke-GOQPntno"
      }
    },
    {
      "cell_type": "code",
      "source": [
        "from sklearn.model_selection import train_test_split\n",
        "from sklearn import svm\n",
        "\n",
        "X = df.iloc[:, : -1].values\n",
        "y = df.iloc[:, -1].values\n",
        "X_train, X_test, y_train, y_test = train_test_split (X, y, test_size = 0.2, random_state = 42)\n",
        "\n",
        "# your code here\n",
        "clf = svm.SVC(kernel='rbf', random_state=42)\n",
        "\n",
        "clf.fit(X_train, y_train)\n",
        "\n",
        "y_train_pred = clf.predict(X_train)\n",
        "y_test_pred = clf.predict(X_test)\n",
        "\n",
        "cm_train = confusion_matrix(y_train, y_train_pred)\n",
        "cm_test = confusion_matrix(y_test, y_test_pred)\n",
        "\n",
        "print()\n",
        "accuracy_for_train = np.round((cm_train[0][0] + cm_train[1][1])/len(y_train), 2)\n",
        "accuracy_for_test = np.round((cm_test[0][0] + cm_test[1][1])/len(y_test), 2)\n",
        "print('Accuracy for training set for SVM = {}'.format(accuracy_for_train))\n",
        "print('Accuracy for test set for SVM = {}'.format(accuracy_for_test))"
      ],
      "metadata": {
        "id": "oA5Nsk_eonea",
        "colab": {
          "base_uri": "https://localhost:8080/"
        },
        "outputId": "679305fd-67ea-4291-b127-c4b04ef70db0"
      },
      "execution_count": 15,
      "outputs": [
        {
          "output_type": "stream",
          "name": "stdout",
          "text": [
            "\n",
            "Accuracy for training set for SVM = 0.66\n",
            "Accuracy for test set for SVM = 0.67\n"
          ]
        }
      ]
    },
    {
      "cell_type": "markdown",
      "source": [
        "# Bài tập 5"
      ],
      "metadata": {
        "id": "vFHp0KTuntu6"
      }
    },
    {
      "cell_type": "code",
      "source": [
        "from sklearn.model_selection import train_test_split\n",
        "from sklearn.naive_bayes import GaussianNB\n",
        "\n",
        "X = df.iloc[:, :-1].values\n",
        "y = df.iloc[:, -1].values\n",
        "X_train, X_test, y_train, y_test = train_test_split(X, y, test_size = 0.2, random_state = 42)\n",
        "\n",
        "# your code here ***************************\n",
        "gnb = GaussianNB()\n",
        "gnb.fit(X_train, y_train)\n",
        "\n",
        "y_train_pred = gnb.predict(X_train)\n",
        "y_test_pred = gnb.predict(X_test)\n",
        "\n",
        "cm_train = confusion_matrix(y_train, y_train_pred)\n",
        "cm_test = confusion_matrix(y_test, y_test_pred)\n",
        "\n",
        "\n",
        "print()\n",
        "accuracy_for_train = np.round((cm_train[0][0] + cm_train[1][1])/len(y_train), 2)\n",
        "accuracy_for_test = np.round((cm_test[0][0] + cm_test[1][1])/len(y_test), 2)\n",
        "print('Accuracy for training set for Naive Bayes = {}'.format(accuracy_for_train))\n",
        "print('Accuracy for test set for Naive Bayes = {}'.format(accuracy_for_test))"
      ],
      "metadata": {
        "id": "v9PrOCdjon7B",
        "colab": {
          "base_uri": "https://localhost:8080/"
        },
        "outputId": "d087a323-6428-4171-f3f9-323b9fa8a1b8"
      },
      "execution_count": 18,
      "outputs": [
        {
          "output_type": "stream",
          "name": "stdout",
          "text": [
            "\n",
            "Accuracy for training set for Naive Bayes = 0.85\n",
            "Accuracy for test set for Naive Bayes = 0.84\n"
          ]
        }
      ]
    },
    {
      "cell_type": "markdown",
      "source": [
        "# Bài tập 6"
      ],
      "metadata": {
        "id": "qaE_t7KRn3lv"
      }
    },
    {
      "cell_type": "code",
      "source": [
        "from sklearn.model_selection import train_test_split\n",
        "from sklearn import tree\n",
        "\n",
        "X = df.iloc[:, :-1].values\n",
        "y = df.iloc[:, -1].values\n",
        "X_train, X_test, y_train, y_test = train_test_split(X, y, test_size = 0.2, random_state = 42)\n",
        "\n",
        "# your code here ***************************\n",
        "clf = tree.DecisionTreeClassifier(criterion='gini', max_depth=10, min_samples_split=2)\n",
        "clf.fit(X_train, y_train)\n",
        "\n",
        "y_train_pred = clf.predict(X_train)\n",
        "y_test_pred = clf.predict(X_test)\n",
        "\n",
        "cm_train = confusion_matrix(y_train, y_train_pred)\n",
        "cm_test = confusion_matrix(y_test, y_test_pred)\n",
        "\n",
        "print()\n",
        "accuracy_for_train = np.round((cm_train[0][0] + cm_train[1][1])/len(y_train), 2)\n",
        "accuracy_for_test = np.round((cm_test[0][0] + cm_test[1][1])/len(y_test), 2)\n",
        "print('Accuracy for training set for Decision Tree = {}'.format(accuracy_for_train))\n",
        "print('Accuracy for test set for Decision Tree = {}'.format(accuracy_for_test))"
      ],
      "metadata": {
        "id": "qHWD_qb6ooWZ",
        "colab": {
          "base_uri": "https://localhost:8080/"
        },
        "outputId": "2bdb448b-5986-4761-8bd9-d95be6909214"
      },
      "execution_count": 19,
      "outputs": [
        {
          "output_type": "stream",
          "name": "stdout",
          "text": [
            "\n",
            "Accuracy for training set for Decision Tree = 1.0\n",
            "Accuracy for test set for Decision Tree = 0.75\n"
          ]
        }
      ]
    },
    {
      "cell_type": "markdown",
      "source": [
        "# Bài tập 7"
      ],
      "metadata": {
        "id": "KHAXxtuQn4jI"
      }
    },
    {
      "cell_type": "code",
      "source": [
        "from sklearn.model_selection import train_test_split\n",
        "from sklearn.ensemble import RandomForestClassifier\n",
        "\n",
        "X = df.iloc[:, :-1].values\n",
        "y = df.iloc[:, -1].values\n",
        "X_train, X_test, y_train, y_test = train_test_split(X, y, test_size = 0.2, random_state = 42)\n",
        "\n",
        "# your code here ***************************\n",
        "clf = RandomForestClassifier(criterion='gini', max_depth=10, min_samples_split=2, n_estimators=10, random_state=42)\n",
        "clf.fit(X_train, y_train)\n",
        "\n",
        "y_train_pred = clf.predict(X_train)\n",
        "y_test_pred = clf.predict(X_test)\n",
        "\n",
        "cm_train = confusion_matrix(y_train, y_train_pred)\n",
        "cm_test = confusion_matrix(y_test, y_test_pred)\n",
        "\n",
        "print()\n",
        "accuracy_for_train = np.round((cm_train[0][0] + cm_train[1][1])/len(y_train), 2)\n",
        "accuracy_for_test = np.round((cm_test[0][0] + cm_test[1][1])/len(y_test), 2)\n",
        "print('Accuracy for training set for Random Forest = {}'.format(accuracy_for_train))\n",
        "print('Accuracy for test set for Random Forest = {}'.format(accuracy_for_test))"
      ],
      "metadata": {
        "id": "7Aig1Alboovr",
        "colab": {
          "base_uri": "https://localhost:8080/"
        },
        "outputId": "c3709467-e4c0-4e92-8896-018f88f58666"
      },
      "execution_count": 20,
      "outputs": [
        {
          "output_type": "stream",
          "name": "stdout",
          "text": [
            "\n",
            "Accuracy for training set for Random Forest = 0.98\n",
            "Accuracy for test set for Random Forest = 0.8\n"
          ]
        }
      ]
    },
    {
      "cell_type": "markdown",
      "source": [
        "# Bài tập 8"
      ],
      "metadata": {
        "id": "KbCOIaHRn4r4"
      }
    },
    {
      "cell_type": "code",
      "source": [
        "from sklearn.model_selection import train_test_split\n",
        "from sklearn.ensemble import AdaBoostClassifier\n",
        "\n",
        "X = df.iloc[:, :-1].values\n",
        "y = df.iloc[:, -1].values\n",
        "X_train, X_test, y_train, y_test = train_test_split(X, y, test_size = 0.2, random_state = 42)\n",
        "\n",
        "# your code here ***************************\n",
        "clf = AdaBoostClassifier(n_estimators=50, learning_rate=1.0)\n",
        "clf.fit(X_train, y_train)\n",
        "\n",
        "y_train_pred = clf.predict(X_train)\n",
        "y_test_pred = clf.predict(X_test)\n",
        "\n",
        "cm_train = confusion_matrix(y_train, y_train_pred)\n",
        "cm_test = confusion_matrix(y_test, y_test_pred)\n",
        "\n",
        "print()\n",
        "accuracy_for_train = np.round((cm_train[0][0] + cm_train[1][1])/len(y_train), 2)\n",
        "accuracy_for_test = np.round((cm_test[0][0] + cm_test[1][1])/len(y_test), 2)\n",
        "print('Accuracy for training set for Adaboost = {}'.format(accuracy_for_train))\n",
        "print('Accuracy for test set for Adaboost = {}'.format(accuracy_for_test))"
      ],
      "metadata": {
        "id": "ESyt7t-ZopIC",
        "colab": {
          "base_uri": "https://localhost:8080/"
        },
        "outputId": "d0d39fa9-7077-4d8a-fd3d-3fc054ea3635"
      },
      "execution_count": 21,
      "outputs": [
        {
          "output_type": "stream",
          "name": "stdout",
          "text": [
            "\n",
            "Accuracy for training set for Adaboost = 0.91\n",
            "Accuracy for test set for Adaboost = 0.84\n"
          ]
        }
      ]
    },
    {
      "cell_type": "markdown",
      "source": [
        "# Bài tập 9"
      ],
      "metadata": {
        "id": "8PCv6Yv_n5IK"
      }
    },
    {
      "cell_type": "code",
      "source": [
        "from sklearn.model_selection import train_test_split\n",
        "from sklearn.ensemble import GradientBoostingClassifier\n",
        "\n",
        "X = df.iloc[:, :-1].values\n",
        "y = df.iloc[:, -1].values\n",
        "X_train, X_test, y_train, y_test = train_test_split(X, y, test_size = 0.2, random_state = 42)\n",
        "\n",
        "# your code here ***************************\n",
        "clf = GradientBoostingClassifier(learning_rate=0.1, n_estimators=100, subsample=1.0, min_samples_split=2, max_depth=3, random_state=42)\n",
        "clf.fit(X_train, y_train)\n",
        "\n",
        "y_train_pred = clf.predict(X_train)\n",
        "y_test_pred = clf.predict(X_test)\n",
        "\n",
        "cm_train = confusion_matrix(y_train, y_train_pred)\n",
        "cm_test = confusion_matrix(y_test, y_test_pred)\n",
        "\n",
        "print()\n",
        "accuracy_for_train = np.round((cm_train[0][0] + cm_train[1][1])/len(y_train), 2)\n",
        "accuracy_for_test = np.round((cm_test[0][0] + cm_test[1][1])/len(y_test), 2)\n",
        "print('Accuracy for training set for GradientBoost = {}'.format(accuracy_for_train))\n",
        "print('Accuracy for test set for GradientBoost = {}'.format(accuracy_for_test))"
      ],
      "metadata": {
        "id": "ub1RPSn8opiF",
        "colab": {
          "base_uri": "https://localhost:8080/"
        },
        "outputId": "25a4bb63-9dbe-44e1-fd21-435302085632"
      },
      "execution_count": 22,
      "outputs": [
        {
          "output_type": "stream",
          "name": "stdout",
          "text": [
            "\n",
            "Accuracy for training set for GradientBoost = 1.0\n",
            "Accuracy for test set for GradientBoost = 0.85\n"
          ]
        }
      ]
    },
    {
      "cell_type": "markdown",
      "source": [
        "# Bài tập 10"
      ],
      "metadata": {
        "id": "UDIPI7FCn5PF"
      }
    },
    {
      "cell_type": "code",
      "source": [
        "from sklearn.model_selection import train_test_split\n",
        "from xgboost import XGBClassifier\n",
        "\n",
        "X = df.iloc[:, :-1].values\n",
        "y = df.iloc[:, -1].values\n",
        "X_train, X_test, y_train, y_test = train_test_split(X, y, test_size = 0.2, random_state = 42)\n",
        "\n",
        "# your code here ***************************\n",
        "clf = XGBClassifier(objective='binary:logistic', random_state=42, n_estimators=100)\n",
        "clf.fit(X_train, y_train)\n",
        "\n",
        "y_train_pred = clf.predict(X_train)\n",
        "y_test_pred = clf.predict(X_test)\n",
        "\n",
        "cm_train = confusion_matrix(y_train, y_train_pred)\n",
        "cm_test = confusion_matrix(y_test, y_test_pred)\n",
        "\n",
        "print()\n",
        "accuracy_for_train = np.round((cm_train[0][0] + cm_train[1][1])/len(y_train), 2)\n",
        "accuracy_for_test = np.round((cm_test[0][0] + cm_test[1][1])/len(y_test), 2)\n",
        "print('Accuracy for training set for XGboost = {}'.format(accuracy_for_train))\n",
        "print('Accuracy for test set for XGboost = {}'.format(accuracy_for_test))"
      ],
      "metadata": {
        "id": "gZoSiJrPop5b",
        "colab": {
          "base_uri": "https://localhost:8080/"
        },
        "outputId": "415d4d30-7b27-4d0c-b8ef-b00745544131"
      },
      "execution_count": 24,
      "outputs": [
        {
          "output_type": "stream",
          "name": "stdout",
          "text": [
            "\n",
            "Accuracy for training set for XGboost = 1.0\n",
            "Accuracy for test set for XGboost = 0.87\n"
          ]
        }
      ]
    },
    {
      "cell_type": "markdown",
      "source": [
        "# Bài tập 11"
      ],
      "metadata": {
        "id": "mdlHcw-Pn5WB"
      }
    },
    {
      "cell_type": "code",
      "source": [
        "from sklearn.model_selection import train_test_split\n",
        "from sklearn.ensemble import StackingClassifier\n",
        "\n",
        "X = df.iloc[:, :-1].values\n",
        "y = df.iloc[:, -1].values\n",
        "X_train, X_test, y_train, y_test = train_test_split(X, y, test_size = 0.2, random_state = 42)\n",
        "\n",
        "# your code here ***************************\n",
        "\n",
        "base_models = [\n",
        "    ('decision_tree', tree.DecisionTreeClassifier(criterion='gini', max_depth=10, min_samples_split=2)),\n",
        "    ('random_forest', RandomForestClassifier(criterion='gini', max_depth=10, min_samples_split=2, n_estimators=10, random_state=42)),\n",
        "    ('knn', KNeighborsClassifier(n_neighbors=5, weights='uniform', algorithm='auto', leaf_size=30, p=2, metric='minkowski')),\n",
        "    ('gradient_boosting', GradientBoostingClassifier(learning_rate=0.1, n_estimators=100, subsample=1.0, min_samples_split=2, max_depth=3, random_state=42)),\n",
        "    ('ada_boost', AdaBoostClassifier(n_estimators=50, learning_rate=1.0)),\n",
        "    ('svm', svm.SVC(kernel='rbf', random_state=42))\n",
        "]\n",
        "\n",
        "meta_model = XGBClassifier(objective='binary:logistic', random_state=42, n_estimators=100)\n",
        "\n",
        "clf = StackingClassifier(estimators=base_models, final_estimator=meta_model)\n",
        "clf.fit(X_train, y_train)\n",
        "\n",
        "y_train_pred = clf.predict(X_train)\n",
        "y_test_pred = clf.predict(X_test)\n",
        "\n",
        "cm_train = confusion_matrix(y_train, y_train_pred)\n",
        "cm_test = confusion_matrix(y_test, y_test_pred)\n",
        "\n",
        "print()\n",
        "accuracy_for_train = np.round((cm_train[0][0] + cm_train[1][1])/len(y_train), 2)\n",
        "accuracy_for_test = np.round((cm_test[0][0] + cm_test[1][1])/len(y_test), 2)\n",
        "print('Accuracy for training set for Stacking = {}'.format(accuracy_for_train))\n",
        "print('Accuracy for test set for Stacking = {}'.format(accuracy_for_test))"
      ],
      "metadata": {
        "id": "0BFDf8aSnj_2",
        "colab": {
          "base_uri": "https://localhost:8080/"
        },
        "outputId": "3d324366-9d63-4208-f8e9-b170ffcaa4e6"
      },
      "execution_count": 25,
      "outputs": [
        {
          "output_type": "stream",
          "name": "stdout",
          "text": [
            "\n",
            "Accuracy for training set for Stacking = 0.91\n",
            "Accuracy for test set for Stacking = 0.9\n"
          ]
        }
      ]
    }
  ]
}